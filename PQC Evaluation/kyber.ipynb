{
 "cells": [
  {
   "cell_type": "code",
   "execution_count": 1,
   "id": "27dc653a",
   "metadata": {},
   "outputs": [
    {
     "ename": "AttributeError",
     "evalue": "module 'oqs' has no attribute 'KEM'",
     "output_type": "error",
     "traceback": [
      "\u001b[1;31m---------------------------------------------------------------------------\u001b[0m",
      "\u001b[1;31mAttributeError\u001b[0m                            Traceback (most recent call last)",
      "Cell \u001b[1;32mIn[1], line 5\u001b[0m\n\u001b[0;32m      3\u001b[0m algorithm \u001b[38;5;241m=\u001b[39m \u001b[38;5;124m'\u001b[39m\u001b[38;5;124mKyber512\u001b[39m\u001b[38;5;124m'\u001b[39m\n\u001b[0;32m      4\u001b[0m \u001b[38;5;66;03m# --------- 1. Generate Keypair ---------\u001b[39;00m\n\u001b[1;32m----> 5\u001b[0m \u001b[38;5;28;01mwith\u001b[39;00m \u001b[43moqs\u001b[49m\u001b[38;5;241;43m.\u001b[39;49m\u001b[43mKEM\u001b[49m(algorithm) \u001b[38;5;28;01mas\u001b[39;00m server:\n\u001b[0;32m      6\u001b[0m     \u001b[38;5;28mprint\u001b[39m(\u001b[38;5;124mf\u001b[39m\u001b[38;5;124m\"\u001b[39m\u001b[38;5;130;01m\\n\u001b[39;00m\u001b[38;5;124mAlgorithm: \u001b[39m\u001b[38;5;132;01m{\u001b[39;00malgorithm\u001b[38;5;132;01m}\u001b[39;00m\u001b[38;5;124m\"\u001b[39m)\n\u001b[0;32m      7\u001b[0m     \u001b[38;5;66;03m# Server generates key pair (public, secret)\u001b[39;00m\n",
      "\u001b[1;31mAttributeError\u001b[0m: module 'oqs' has no attribute 'KEM'"
     ]
    }
   ],
   "source": [
    "import oqs\n",
    "# Use the Kyber512 KEM algorithm\n",
    "algorithm = 'Kyber512'\n",
    "# --------- 1. Generate Keypair ---------\n",
    "with oqs.KEM(algorithm) as server:\n",
    "    print(f\"\\nAlgorithm: {algorithm}\")\n",
    "    # Server generates key pair (public, secret)\n",
    "    public_key = server.generate_keypair()\n",
    "    secret_key = server.export_secret_key()\n",
    "    print(f\"\\n[1] Key Generation:\")\n",
    "    print(f\"Public Key (len={len(public_key)}): {public_key.hex()}\")\n",
    "    print(f\"Secret Key (len={len(secret_key)}): {secret_key.hex()}\")\n",
    "\n",
    "    # --------- 2. Client Encapsulation ---------\n",
    "    with oqs.KeyEncapsulation(algorithm) as client:\n",
    "        # Client uses server's public key to encapsulate a shared secret\n",
    "        ciphertext, shared_secret_enc = client.encap_secret(public_key)\n",
    "        print(f\"\\n[2] Encapsulation:\")\n",
    "        print(f\"Ciphertext (len={len(ciphertext)}): {ciphertext.hex()}\")\n",
    "        print(f\"Client's Shared Secret: {shared_secret_enc.hex()}\")\n",
    "\n",
    "    # --------- 3. Server Decapsulation ---------\n",
    "    shared_secret_dec = server.decap_secret(ciphertext)\n",
    "    print(f\"\\n[3] Decapsulation:\")\n",
    "    print(f\"Server's Shared Secret: {shared_secret_dec.hex()}\")\n",
    "\n",
    "    # --------- 4. Derive symmetric key & Encrypt Plaintext ---------\n",
    "    # For demonstration, we’ll encrypt plaintext with AES-GCM using shared secret\n",
    "    from Crypto.Cipher import AES\n",
    "    from Crypto.Random import get_random_bytes\n",
    "    # Example plaintext\n",
    "    plaintext = b'Post-Quantum Test'\n",
    "    print(f\"\\n[4] Plaintext: {plaintext}\")\n",
    "    # Use first 16 bytes of shared secret for AES-128 key\n",
    "    key = shared_secret_enc[:16]\n",
    "    cipher = AES.new(key, AES.MODE_GCM)\n",
    "    ciphertext_aes, tag = cipher.encrypt_and_digest(plaintext)\n",
    "    print(f\"Symmetric Key (AES-128): {key.hex()}\")\n",
    "    print(f\"AES-GCM Nonce: {cipher.nonce.hex()}\")\n",
    "    print(f\"AES-GCM Ciphertext: {ciphertext_aes.hex()}\")\n",
    "    print(f\"AES-GCM Tag: {tag.hex()}\")\n",
    "\n",
    "    # --------- 5. Decrypt the AES ciphertext ---------\n",
    "    cipher_dec = AES.new(key, AES.MODE_GCM, nonce=cipher.nonce)\n",
    "    decrypted = cipher_dec.decrypt_and_verify(ciphertext_aes, tag)\n",
    "    print(f\"\\n[5] Decrypted Plaintext: {decrypted}\")\n"
   ]
  }
 ],
 "metadata": {
  "kernelspec": {
   "display_name": "cwq",
   "language": "python",
   "name": "python3"
  },
  "language_info": {
   "codemirror_mode": {
    "name": "ipython",
    "version": 3
   },
   "file_extension": ".py",
   "mimetype": "text/x-python",
   "name": "python",
   "nbconvert_exporter": "python",
   "pygments_lexer": "ipython3",
   "version": "3.13.2"
  }
 },
 "nbformat": 4,
 "nbformat_minor": 5
}
